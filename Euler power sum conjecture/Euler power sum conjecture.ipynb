{
  "metadata": {
    "kernelspec": {
      "name": "python",
      "display_name": "Python (Pyodide)",
      "language": "python"
    },
    "language_info": {
      "codemirror_mode": {
        "name": "python",
        "version": 3
      },
      "file_extension": ".py",
      "mimetype": "text/x-python",
      "name": "python",
      "nbconvert_exporter": "python",
      "pygments_lexer": "ipython3",
      "version": "3.8"
    }
  },
  "nbformat_minor": 4,
  "nbformat": 4,
  "cells": [
    {
      "cell_type": "markdown",
      "source": "<h1 align=\"center\" style=\"color:#38C520\">Falsedad la conjetura de la suma de potencias de Euler </h1>\n\n`Desarrollado por:` `Andrés Felipe León Sánchez`\n\n`Correo de contacto:` `anleonsa@unal.edu.co`\n\n`Fecha de inicio del análisis:` `11 / Febrero / 2024`\n\n`Fecha de finalización del análisis` `11 / Febrero / 2024`\n\n`análisis realizado en el lenguaje de programación Python`\n    \n<hr/>",
      "metadata": {}
    },
    {
      "cell_type": "markdown",
      "source": "<h2>Tabla de contenidos</h2>\n\n<ul>\n    <li style=\"font-size: 17px;\">\n        1.\n        <span style=\"color:#888;\">\n            <a href=\"#1.-¿Qué-dice-la-conjetura-de-Brocard-y-qué-haremos?\">\n                ¿Qué dice la conjetura de la suma de potencias de Euler?\n            </a>\n        </span>\n    </li>\n    <li style=\"font-size: 17px;\">\n        2.\n        <span style=\"color:#888;\">\n            <a href=\"#1.-¿Qué-dice-la-conjetura-de-Brocard-y-qué-haremos?\">\n                Comprobando la falsedad\n            </a>\n        </span>\n    </li>\n</ul>",
      "metadata": {}
    },
    {
      "cell_type": "markdown",
      "source": "## <span style=\"color:#38C520\">1. ¿Qué dice la conjetura de la suma de potencias de Euler?</span>",
      "metadata": {}
    },
    {
      "cell_type": "markdown",
      "source": "<p style=\"font-size:16px\">Esta conjetura fue propuesta por el matemático Leonhard Euler en 1769, y dice que para todos los enteros $n$ y $k$ mayores que $1$, si la suma de $n$ elementos cada uno elevado a la potencia $k$, es a su vez igual a una potencia $k$, entonces $n$ debía ser mayor o igual que $k$\n</p>\n<span style=\"font-size:16px\">Dicho de otro modo</span>\n\n### *Sí* $ \\hspace{10px} a_{1}^k + a_{2}^k + a_{3}^k + ... + a_{n}^k = b^k \\hspace{10px}$ *entonces* $n \\geq k$",
      "metadata": {}
    },
    {
      "cell_type": "markdown",
      "source": "## <span style=\"color:#38C520\">2. Comprobando la falsedad</span>",
      "metadata": {}
    },
    {
      "cell_type": "markdown",
      "source": "<p style=\"font-size:16px\">Para comprobar la falsedad de una proposición existe un método no muy complejo que es presentar al menos $1$ contraejemplo</p>",
      "metadata": {}
    },
    {
      "cell_type": "markdown",
      "source": "### <span style=\"color:#C53820\">Contrajemplo #1</span>",
      "metadata": {}
    },
    {
      "cell_type": "markdown",
      "source": "<p style=\"font-size:16px;\">\n    $n = 3$ $\\hspace{7px}$ $k = 4$\n</p>\n<p style=\"font-size:16px;\">\n    $95800^4 + 217519^4 + 414560^4 = 422481^4$\n</p>",
      "metadata": {}
    },
    {
      "cell_type": "code",
      "source": "a = 95800\nb = 217519\nc = 414560\nd = 422481\n\nleft_result = (a * a * a * a) + (b * b * b * b) + (c * c * c * c)\nright_result = (d * d * d * d)\n\nprint(left_result, \" = \", right_result)",
      "metadata": {
        "trusted": true
      },
      "outputs": [
        {
          "name": "stdout",
          "text": "31858749840007945920321  =  31858749840007945920321\n",
          "output_type": "stream"
        }
      ],
      "execution_count": 11
    },
    {
      "cell_type": "markdown",
      "source": "### <span style=\"color:#C53820\">Contrajemplo #2</span>",
      "metadata": {}
    },
    {
      "cell_type": "markdown",
      "source": "<p style=\"font-size:16px;\">\n    $n = 4$ $\\hspace{7px}$ $k = 5$\n</p>\n<p style=\"font-size:16px;\">\n    $27^5 + 84^5 + 110^5 + 133^5 = 144^5$\n</p>",
      "metadata": {}
    },
    {
      "cell_type": "code",
      "source": "a = 27\nb = 84\nc = 110\nd = 133\ne = 144\n\nleft_result = (a * a * a * a * a) + (b * b * b * b * b) + (c * c * c * c * c) + (d * d * d * d * d)\nright_result = (e * e * e * e * e)\n\nprint(left_result, \" = \", right_result)",
      "metadata": {
        "trusted": true
      },
      "outputs": [
        {
          "name": "stdout",
          "text": "61917364224  =  61917364224\n",
          "output_type": "stream"
        }
      ],
      "execution_count": 12
    },
    {
      "cell_type": "markdown",
      "source": "### <span style=\"color:#C53820\">Contrajemplo #3</span>",
      "metadata": {}
    },
    {
      "cell_type": "markdown",
      "source": "<p style=\"font-size:16px;\">\n    $n = 4$ $\\hspace{7px}$ $k = 5$\n</p>\n<p style=\"font-size:16px;\">\n    $(-220)^5 + 5027^5 + 6237^5 + 14068^5 = 14132^5$\n</p>",
      "metadata": {}
    },
    {
      "cell_type": "code",
      "source": "a = -220\nb = 5027\nc = 6237\nd = 14068\ne = 14132\n\nleft_result = (a * a * a * a * a) + (b * b * b * b * b) + (c * c * c * c * c) + (d * d * d * d * d)\nright_result = (e * e * e * e * e)\n\nprint(left_result, \" = \", right_result)",
      "metadata": {
        "trusted": true
      },
      "outputs": [
        {
          "name": "stdout",
          "text": "563661203789058962432  =  563661203789058962432\n",
          "output_type": "stream"
        }
      ],
      "execution_count": 9
    },
    {
      "cell_type": "markdown",
      "source": "### La conjetura de la suma de potencias de Euler es falsa",
      "metadata": {}
    }
  ]
}