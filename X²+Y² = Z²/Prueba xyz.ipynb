{
 "cells": [
  {
   "cell_type": "markdown",
   "metadata": {},
   "source": [
    "<h1>Andrés Felipe León Sánchez</h1>\n",
    "\n",
    "> anleonsa@unal.edu.co\n",
    "\n",
    "<h2>Demostración</h2>"
   ]
  },
  {
   "cell_type": "markdown",
   "metadata": {},
   "source": [
    "<p style=\"font-size:29px; color:blue\">Proposición</p>"
   ]
  },
  {
   "cell_type": "markdown",
   "metadata": {},
   "source": [
    "<p style=\"font-size:19px;\">\n",
    "    Para todos los enteros $x$ y $y$ impares, entonces NO existe $z$ entero tal que $x^2 + y^2 = z^2$\n",
    "</p>"
   ]
  },
  {
   "cell_type": "markdown",
   "metadata": {},
   "source": [
    "<p style=\"font-size:23px; color:blue\">Prueba</p>"
   ]
  },
  {
   "cell_type": "markdown",
   "metadata": {},
   "source": [
    "<p style=\"font-size:19px\">\n",
    "    Para probar esta proposición usamos el método de <b>contradicción</b>, por tanto asumimos que para todos los enteros $x$ y $y$ impares, entonces existe $z$ entero tal que $x^2 + y^2 = z^2$\n",
    "</p>"
   ]
  },
  {
   "cell_type": "markdown",
   "metadata": {},
   "source": [
    "<p style=\"font-size:19px\">\n",
    "    Inicialmente asumimos que $x$ y $y$ son enteros impares, esto significa que se pueden escribir como:\n",
    "</p>\n",
    "\n",
    "<p style=\"font-size:19px\">\n",
    "    $x = 2n + 1$, $n \\in \\mathbb{Z}$\n",
    "</p>\n",
    "<p style=\"font-size:19px\">\n",
    "    $y = 2k + 1$, $k \\in \\mathbb{Z}$\n",
    "</p>"
   ]
  },
  {
   "cell_type": "markdown",
   "metadata": {},
   "source": [
    "<p style=\"font-size:19px\">\n",
    "    Hallamos $x^2 + y^2$ usando las expresiones anteriores\n",
    "</p>"
   ]
  },
  {
   "cell_type": "markdown",
   "metadata": {},
   "source": [
    "<p style=\"font-size:19px\">\n",
    "    $x^2 + y^2 = (2n + 1)^2 + (2k + 1)^2$\n",
    "</p>\n",
    "\n",
    "<p style=\"font-size:19px\">\n",
    "    $= ((2n)^2 + 2(2n \\cdot 1) + 1^2) + ((2k)^2 + 2(2k \\cdot 1) + 1^2)$\n",
    "</p>\n",
    "\n",
    "<p style=\"font-size:19px\">\n",
    "    $= (4n^2 + 4n + 1) + (4k^2 + 4k + 1)$\n",
    "</p>\n",
    "\n",
    "<p style=\"font-size:19px\">\n",
    "    $= 4n^2 + 4k^2 + 4n + 4k + 1 + 1$\n",
    "</p>\n",
    "\n",
    "<p style=\"font-size:19px\">\n",
    "    $= 4n^2 + 4k^2 + 4n + 4k + 2$\n",
    "</p>\n",
    "\n",
    "<p style=\"font-size:19px\">\n",
    "    $= 2(2n^2 + 2k^2 + 2n + 2k + 1)$\n",
    "</p>"
   ]
  },
  {
   "cell_type": "markdown",
   "metadata": {},
   "source": [
    "<p style=\"font-size:19px\">\n",
    "    Dentro del paréntesis de esta expresión tenemos $(2n^2 + 2k^2 + 2n + 2k + 1)$ que al tener solo sumas y multiplicaciones de enteros, su resultado será a su vez un entero que nombraremos $r$.\n",
    "</p>\n",
    "\n",
    "<p style=\"font-size:19px\">\n",
    "    Vemos también que $x^2 + y^2$ se puede escribir como $2r$, $r \\in \\mathbb{Z}$ por lo que podemos concluir que $x^2 + y^2$ es par.\n",
    "</p>"
   ]
  },
  {
   "cell_type": "markdown",
   "metadata": {},
   "source": [
    "<p style=\"font-size:19px\">\n",
    "    Sí $x^2 + y^2$ es par, significa que $z^2$ es par también debido a que $x^2 + y^2 = z^2$, entonces $z^2$ puede escribirse como $z^2 = 2r$\n",
    "</p>"
   ]
  },
  {
   "cell_type": "markdown",
   "metadata": {},
   "source": [
    "<p style=\"font-size:19px\">\n",
    "    Ahora, demostramos que sí $z^2$ es par, entonces $z$ es par, para ello usamos <b>Contrapositiva</b>\n",
    "</p>\n",
    "<p style=\"font-size:19px\">\n",
    "    Para demostrar por contrapositiva deberemos demostrar: \"Sí $z$ es impar, entonces $z^2$ es impar\"\n",
    "</p>"
   ]
  },
  {
   "cell_type": "markdown",
   "metadata": {},
   "source": [
    "<p style=\"font-size:22px;color:blue\">\n",
    "    Prueba de la paridad de $z$\n",
    "</p>"
   ]
  },
  {
   "cell_type": "markdown",
   "metadata": {},
   "source": [
    "<p style=\"font-size:19px\">\n",
    "    Asumimos que $z$ es impar, es decir, si tenemos $p$ entero, $z$ puede escribirse como $z = 2p + 1$\n",
    "</p>\n",
    "\n",
    "<p style=\"font-size:19px\">\n",
    "    Hallamos $z^2$\n",
    "</p>\n",
    "\n",
    "<p style=\"font-size:19px\">\n",
    "    $z = 2p + 1$\n",
    "</p>\n",
    "\n",
    "<p style=\"font-size:19px\">\n",
    "    $z^2 = (2p + 1)^2$\n",
    "</p>\n",
    "\n",
    "<p style=\"font-size:19px\">\n",
    "    $z^2 = (2p)^2 + 2(2p \\cdot 1) + 1^2$\n",
    "</p>\n",
    "\n",
    "<p style=\"font-size:19px\">\n",
    "    $z^2 = 4p^2 + 4p + 1$\n",
    "</p>\n",
    "\n",
    "<p style=\"font-size:19px\">\n",
    "    $z^2 = 2(2p^2 + 2p) + 1$\n",
    "</p>"
   ]
  },
  {
   "cell_type": "markdown",
   "metadata": {},
   "source": [
    "<p style=\"font-size:19px\">\n",
    "    La expresión dentro del paréntesis: ($2p^2 + 2p$) contiene solo sumas y multiplicaciones de enteros, por lo que esta a su vez, resulta en un entero, que nombraremos $b$.\n",
    "</p>\n",
    "<p style=\"font-size:19px\">\n",
    "    $z^2$ se puede escribir entonces como $z^2 = 2b + 1$, siendo $b$ un entero, por lo que $z^2$ es un número entero impar, demostramos la contrapositiva.\n",
    "</p>\n",
    "\n",
    "<p style=\"font-size:19px\">\n",
    "    Como demostramos la contrapositiva de la afirmación original, demostramos la proposición original, y por tanto $z$ es un número par.\n",
    "</p>"
   ]
  },
  {
   "cell_type": "markdown",
   "metadata": {},
   "source": [
    "<p style=\"font-size:22px;color:blue\">\n",
    "    Continuamos con la prueba de la existencia de $z$\n",
    "</p>"
   ]
  },
  {
   "cell_type": "markdown",
   "metadata": {},
   "source": [
    "<p style=\"font-size:19px\">\n",
    "    Ya sabemos que $z$ es un entero par, por lo que puede escribirse como $z = 2t$, siendo $t$ un número entero.\n",
    "</p>"
   ]
  },
  {
   "cell_type": "markdown",
   "metadata": {},
   "source": [
    "<p style=\"font-size:19px\">\n",
    "    Hallamos $z^2$\n",
    "</p>"
   ]
  },
  {
   "cell_type": "markdown",
   "metadata": {},
   "source": [
    "<p style=\"font-size:19px\">\n",
    "    $z^2 = (2t)^2$\n",
    "</p>\n",
    "\n",
    "<p style=\"font-size:19px\">\n",
    "    $z^2 = 4t^2$\n",
    "</p>"
   ]
  },
  {
   "cell_type": "markdown",
   "metadata": {},
   "source": [
    "<p style=\"font-size:19px\">\n",
    "    Expresemos $x^2 + y^2 = z^2$ con las expresiones que hemos hallado.\n",
    "</p>\n",
    "\n",
    "<p style=\"font-size:19px\">\n",
    "    $2(2n^2 + 2k^2 + 2n + 2k + 1) = 4t^2$\n",
    "</p>\n",
    "\n",
    "<p style=\"font-size:19px\">\n",
    "    Dividimos entre 2, a ambos lados de la igualdad\n",
    "</p>\n",
    "\n",
    "<p style=\"font-size:19px\">\n",
    "    $2n^2 + 2k^2 + 2n + 2k + 1 = 2t^2$\n",
    "</p>\n",
    "\n",
    "<p style=\"font-size:19px\">\n",
    "    $2(n^2 + k^2 + n + k) + 1 = 2t^2$\n",
    "</p>"
   ]
  },
  {
   "cell_type": "markdown",
   "metadata": {},
   "source": [
    "<p style=\"font-size:19px\">\n",
    "    Tanto $n, k$ y $t$ son números enteros, por lo que $(n^2 + k^2 + n + k)$ es un número entero y $t^2$ también es entero\n",
    "</p>\n",
    "\n",
    "<p style=\"font-size:19px\">\n",
    "    Quiere decir que en la última expresión: $2(n^2 + k^2 + n + k) + 1 = 2t^2$, estamos igualando una expresión impar con una expresión par, por lo que llegamos a una <span style=\"color:red;\">contradicción</span>\n",
    "</p>"
   ]
  },
  {
   "cell_type": "markdown",
   "metadata": {},
   "source": [
    "<p style=\"font-size:19px\">\n",
    "    Debido a qué llegamos a una contradicción, Para todos los enteros $x$ y $y$ impares, no puede existir un $z$ entero tal que $x^2 + y^2 = z^2$\n",
    "</p>"
   ]
  },
  {
   "cell_type": "markdown",
   "metadata": {},
   "source": [
    "<p style=\"font-size:19px\">\n",
    "    <b>Conclusión:</b> Para todos los enteros $x$ y $y$ impares, no existe un $z$ entero tal que $x^2 + y^2 = z^2$, y por tanto esta proposición, es VERDADERA.\n",
    "</p>\n",
    "\n",
    "<center style=\"font-size:19px; margin-top:40px\">Demostrado 😁</center>\n"
   ]
  }
 ],
 "metadata": {
  "kernelspec": {
   "display_name": "C++17",
   "language": "C++17",
   "name": "xcpp17"
  },
  "language_info": {
   "codemirror_mode": "text/x-c++src",
   "file_extension": ".cpp",
   "mimetype": "text/x-c++src",
   "name": "c++",
   "version": "17"
  }
 },
 "nbformat": 4,
 "nbformat_minor": 2
}
