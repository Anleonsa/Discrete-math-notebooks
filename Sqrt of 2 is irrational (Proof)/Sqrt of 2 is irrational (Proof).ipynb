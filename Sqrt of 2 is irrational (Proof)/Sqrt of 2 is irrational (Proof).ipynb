{
 "cells": [
  {
   "cell_type": "markdown",
   "metadata": {},
   "source": [
    "<h1>Andrés Felipe León Sánchez</h1>\n",
    "\n",
    "> anleonsa@unal.edu.co\n",
    "\n",
    "<h2>Demostración, $\\sqrt{2}$ es irracional</h2>"
   ]
  },
  {
   "cell_type": "markdown",
   "metadata": {},
   "source": [
    "<p style=\"font-size:29px; color:blue\">Enunciado</p>"
   ]
  },
  {
   "cell_type": "markdown",
   "metadata": {},
   "source": [
    "<p style=\"font-size:19px;\">\n",
    "    Pruebe que $\\sqrt{2}$ es irracional\n",
    "</p>"
   ]
  },
  {
   "cell_type": "markdown",
   "metadata": {},
   "source": [
    "<p style=\"font-size:23px; color:blue\">Prueba</p>"
   ]
  },
  {
   "cell_type": "markdown",
   "metadata": {},
   "source": [
    "<p style=\"font-size:19px\">\n",
    "    Para probar esta proposición usamos el método de <b>contradicción</b>, por tanto asumimos que $\\sqrt{2}$ es racional\n",
    "</p>"
   ]
  },
  {
   "cell_type": "markdown",
   "metadata": {},
   "source": [
    "<p style=\"font-size:19px\">\n",
    "    Si $\\sqrt{2}$ es racional, puede escribirse como la razón de 2 números enteros.\n",
    "</p>\n",
    "\n",
    "<p style=\"font-size:19px\">\n",
    "    Sean $a$, $b$ $\\in \\mathbb{Z}$, decimos:\n",
    "</p>\n",
    "\n",
    "<p style=\"font-size:19px\">\n",
    "    $\\sqrt{2} = \\frac{a}{b}$\n",
    "</p>"
   ]
  },
  {
   "cell_type": "markdown",
   "metadata": {},
   "source": [
    "<p style=\"font-size:19px\">\n",
    "    Como $2$ puedo elevar al cuadrado a ambos lados\n",
    "</p>\n",
    "\n",
    "<p style=\"font-size:19px\">\n",
    "    $2 = (\\frac{a}{b})^2$\n",
    "</p>\n",
    "\n"
   ]
  },
  {
   "cell_type": "markdown",
   "metadata": {},
   "source": [
    "<p style=\"font-size:19px\">\n",
    "    $2 = \\frac{a^2}{b^2}$\n",
    "</p>"
   ]
  },
  {
   "cell_type": "markdown",
   "metadata": {},
   "source": [
    "<p style=\"font-size:19px\">\n",
    "    $2b^2 = a^2$\n",
    "</p>"
   ]
  },
  {
   "cell_type": "markdown",
   "metadata": {},
   "source": [
    "<p style=\"font-size:19px; font-weight:800;color:blue\">\n",
    "    Comprendamos algo clave de los números que son cuadrados.\n",
    "</p>"
   ]
  },
  {
   "cell_type": "markdown",
   "metadata": {},
   "source": [
    "<p style=\"font-size:19px\">\n",
    "    Un número entero positivo cuadrado $c$ es aquel número que puede ser obtenido por el producto de un entero $x$ por sí mismo, es decir:\n",
    "</p>\n",
    "\n",
    "<p style=\"font-size:19px\">\n",
    "    $c = x \\cdot x$\n",
    "</p>"
   ]
  },
  {
   "cell_type": "markdown",
   "metadata": {},
   "source": [
    "<p style=\"font-size:19px\">\n",
    "    Según el teorema fundamental de la aritmética, todo número entero positivo mayor que 1, puede ser expresado como una multiplicación de potencias de primos, si lo simplificamos, un número entero positivo $n$, $n > 1$, puede ser construido por el producto de números primos.\n",
    "</p>\n",
    "\n",
    "<p style=\"font-size:19px\">\n",
    "    Es decir, sí tenemos el entero positivo $n$, $n > 1$\n",
    "</p>\n",
    "\n",
    "<p style=\"font-size:19px\">\n",
    "    $n = P_{1} \\cdot P_{2} \\cdot P_{3} \\cdot P_{4} \\cdot P_{5} \\cdot ... \\cdot P_{k}$, $k \\in \\mathbb{N}$\n",
    "</p>"
   ]
  },
  {
   "cell_type": "markdown",
   "metadata": {},
   "source": [
    "<p style=\"font-size:19px\">\n",
    "    En donde $P_{i}$ representa un número primo de la lista del producto de primos que conforman a $n$, además un primo puede aparecer más de una vez en esta lista.\n",
    "</p>"
   ]
  },
  {
   "cell_type": "markdown",
   "metadata": {},
   "source": [
    "<p style=\"font-size:19px\">\n",
    "    Cuando tenemos un entero $x$, el producto consigo mismo resulta en un cuadrado entero positivo $c$, y cuando $x$ es mayor que 1, $x$ puede construirse como la multiplicación de primos, por lo que:\n",
    "</p>\n",
    "\n",
    "<p style=\"font-size:19px\">\n",
    "    $c = x \\cdot x$\n",
    "</p>\n",
    "\n",
    "<p style=\"font-size:19px\">\n",
    "    $c = (P_{1} \\cdot P_{2} \\cdot P_{3} \\cdot ... \\cdot P_{k}) \\cdot (P_{1} \\cdot P_{2} \\cdot P_{3} \\cdot ... \\cdot P_{k})$, $k \\in \\mathbb{N}$\n",
    "</p>"
   ]
  },
  {
   "cell_type": "markdown",
   "metadata": {},
   "source": [
    "<p style=\"font-size:19px\">\n",
    "    Vemos que el cuadrado $c$, es contruido por el producto de los factores primos de $x$ dos veces, por lo que se cumple que cada factor primo de $c$ se repite una cantidad par de veces en el producto de primos\n",
    "</p>"
   ]
  },
  {
   "cell_type": "markdown",
   "metadata": {},
   "source": [
    "<p style=\"font-size:19px\">\n",
    "    Con esto concluimos que todo entero positivo mayor que 1, que sea un cuadrado, deberá poderse expresar como el producto de números primos, en donde cada factor primo se multiplique una cantidad par de veces, es decir, cada número que sea factor primo deberá aparecer en el producto de la forma $P^{2r}$, en donde $P$ es el número primo y $r$ un natural.\n",
    "</p>"
   ]
  },
  {
   "cell_type": "markdown",
   "metadata": {},
   "source": [
    "<p style=\"font-size:19px; font-weight:800;color:blue\">\n",
    "    Sigamos con la prueba de $\\sqrt{2}$\n",
    "</p>"
   ]
  },
  {
   "cell_type": "markdown",
   "metadata": {},
   "source": [
    "<p style=\"font-size:19px\">\n",
    "    Tenemos que $2b^2 = a^2$\n",
    "</p>"
   ]
  },
  {
   "cell_type": "markdown",
   "metadata": {},
   "source": [
    "<p style=\"font-size:19px\">\n",
    "    $b^2$ y $a^2$ son números cuadrados, por lo que cada uno de ellos se debe poder construir por la multiplicación de números primos, cada uno multiplicado una cantidad par de veces\n",
    "</p>"
   ]
  },
  {
   "cell_type": "markdown",
   "metadata": {},
   "source": [
    "<p style=\"font-size:19px\">\n",
    "    Si miramos los factores primos de $b$, puede tener o no al número $2$, pero sea ese o no el caso, el factor primo 2 dentro del producto para construir a $b$ se puede expresar como $2^{2r}$, $r \\in \\mathbb{N}$\n",
    "</p>\n",
    "\n",
    "<p style=\"font-size:19px\">\n",
    "    En la expresión $2b^2 = a^2$ hay un 2 que multiplica a $b^2$, por lo que el factor primo $2$ en la expresión $2b^2$ se puede expresar como $2^{2r + 1}$, vemos que el 2 se multiplica $2r + 1$ veces, es decir, una cantidad impar de veces para construir a $2b^2$, pero a la vez tenemos que $2b^2 = a^2$, es decir tendriamos que el factor primo $2$ se multiplica una cantidad impar de veces para formar a $a^2$, lo cuál genera una <b>contradicción</b>, ya que $a^2$ al ser un cuadrado, debería tener una cantidad par de veces todos sus factores primos en el producto.\n",
    "</p>"
   ]
  },
  {
   "cell_type": "markdown",
   "metadata": {},
   "source": [
    "<p style=\"font-size:19px\">\n",
    "    <b>Conclusión:</b> Considerar que $\\sqrt{2}$ es racional generaría una contradicción, por ello, $\\sqrt{2}$ debe ser irracional.\n",
    "</p>"
   ]
  },
  {
   "cell_type": "markdown",
   "metadata": {},
   "source": [
    "<center style=\"font-size:19px; margin-top:40px\">Demostrado 😁</center>"
   ]
  }
 ],
 "metadata": {
  "kernelspec": {
   "display_name": "C++17",
   "language": "C++17",
   "name": "xcpp17"
  },
  "language_info": {
   "codemirror_mode": "text/x-c++src",
   "file_extension": ".cpp",
   "mimetype": "text/x-c++src",
   "name": "c++",
   "version": "17"
  }
 },
 "nbformat": 4,
 "nbformat_minor": 2
}
