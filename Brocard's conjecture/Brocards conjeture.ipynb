{
 "cells": [
  {
   "cell_type": "markdown",
   "id": "bb38a5a9",
   "metadata": {},
   "source": [
    "<h1 align=\"center\" style=\"color:#38C520\">Generador de ejemplos de la conjetura de Brocard</h1>\n",
    "\n",
    "`Desarrollado por:` `Andrés Felipe León Sánchez`\n",
    "\n",
    "`Correo de contacto:` `anleonsa@unal.edu.co`\n",
    "\n",
    "`Fecha de inicio del análisis:` `7 / Febrero / 2024`\n",
    "\n",
    "`Fecha de finalización del análisis` `11 / Febrero / 2024`\n",
    "\n",
    "`análisis realizado en el lenguaje de programación C++`\n",
    "    \n",
    "<hr/>"
   ]
  },
  {
   "cell_type": "markdown",
   "id": "7f7c6abb",
   "metadata": {},
   "source": [
    "**Nota:** La lectura de este notebook se recomienda efectuarla en <a href=\"https://jupyter.org/try#kernels\">Binder</a> seleccionando `C++`."
   ]
  },
  {
   "cell_type": "markdown",
   "id": "13971ff6",
   "metadata": {},
   "source": [
    "<h2>Tabla de contenidos</h2>\n",
    "<ul>\n",
    "    <li style=\"font-size: 17px;\">\n",
    "        1.\n",
    "        <span style=\"color:#888;\">\n",
    "            <a href=\"#1.-¿Qué-dice-la-conjetura-de-Brocard-y-qué-haremos?\">\n",
    "                ¿Qué dice la conjetura de brocard y qué haremos?\n",
    "            </a>\n",
    "        </span>\n",
    "    </li>\n",
    "    <li style=\"font-size: 17px;\">\n",
    "        2.\n",
    "        <span style=\"color:#888;\">\n",
    "            <a href=\"#2.-Razonamientos-necesarios-para-el-algoritmo\">\n",
    "                Razonamientos necesarios para el algoritmo\n",
    "            </a>\n",
    "        </span>\n",
    "        <ul style=\"list-style:none;\">\n",
    "            <li>\n",
    "                2.1\n",
    "                <span style=\"color:#888;\">\n",
    "                    <a href=\"#2.1-Teorema-fundamental-de-la-aritmética-o-teorema-de-factorización-única\">\n",
    "                        Teorema fundamental de la aritmética o teorema de factorización única\n",
    "                    </a>\n",
    "                </span>\n",
    "            </li>\n",
    "            <li>\n",
    "                2.2\n",
    "                <span style=\"color:#888;\">\n",
    "                    <a href=\"#2.2-Algoritmo-$O(\\frac{\\sqrt{n}}{2})$-para-comprobar-si-un-número-es-primo-o-no\">\n",
    "                        Algoritmo $O(\\frac{\\sqrt{n}}{2})$ para comprobar si un número es primo\n",
    "                    </a>\n",
    "                </span>\n",
    "            </li>\n",
    "            <li>\n",
    "                2.3\n",
    "                <span style=\"color:#888;\">\n",
    "                    <a href=\"#2.3-Combinación-de-las-2-ideas-anteriores\">\n",
    "                        Combinación de las 2 ideas anteriores\n",
    "                    </a>\n",
    "                </span>\n",
    "            </li>\n",
    "        </ul>\n",
    "    </li>\n",
    "    <li style=\"font-size: 17px;\">\n",
    "        3.\n",
    "        <span style=\"color:#888;\">\n",
    "            <a href=\"#3.-Algoritmo-principal\">\n",
    "                Algoritmo principal\n",
    "            </a>\n",
    "        </span>\n",
    "        <ul style=\"list-style:none;\">\n",
    "            <li>\n",
    "                3.1\n",
    "                <span style=\"color:#888;\">\n",
    "                    <a href=\"#3.1-Inicio-del-programa\">\n",
    "                        Inicio del programa\n",
    "                    </a>\n",
    "                </span>\n",
    "            </li>\n",
    "            <li>\n",
    "                3.2\n",
    "                <span style=\"color:#888;\">\n",
    "                    <a href=\"#3.2-Funciones\">\n",
    "                        Funciones\n",
    "                    </a>\n",
    "                </span>\n",
    "                <ul style=\"list-style:none;\">\n",
    "                    <li>\n",
    "                        3.2.1\n",
    "                        <span style=\"color:#888;\">\n",
    "                            <a href=\"#3.2.1-isNextPrime()\">\n",
    "                                isNextPrime()\n",
    "                            </a>\n",
    "                        </span>\n",
    "                    </li>\n",
    "                    <li>\n",
    "                        3.2.2\n",
    "                        <span style=\"color:#888;\">\n",
    "                            <a href=\"#3.2.2-fillPrimesUntilN()\">\n",
    "                                fillPrimesUntilN()\n",
    "                            </a>\n",
    "                        </span>\n",
    "                    </li>\n",
    "                    <li>\n",
    "                        3.2.3\n",
    "                        <span style=\"color:#888;\">\n",
    "                            <a href=\"#3.2.3-hasPrimeDivisor()\">\n",
    "                                hasPrimeDivisor()\n",
    "                            </a>\n",
    "                        </span>\n",
    "                    </li>\n",
    "                </ul>\n",
    "            </li>\n",
    "            <li>\n",
    "                3.3\n",
    "                <span style=\"color:#888;\">\n",
    "                    <a href=\"#3.3-Flujo-principal\">\n",
    "                        Flujo principal\n",
    "                    </a>\n",
    "                </span>\n",
    "            </li>\n",
    "        </ul>\n",
    "    </li>\n",
    "    \n",
    "</ul>"
   ]
  },
  {
   "cell_type": "markdown",
   "id": "50d47bea",
   "metadata": {},
   "source": [
    "## <span style=\"color:#38C520\">1. ¿Qué dice la conjetura de Brocard y qué haremos?</span>\n",
    "\n",
    "> Para abordar este tema, designemos a $P_n$ como el enésimo primo dentro de una lista de todos los primos existentes.\n",
    "Por lo que si expresamos una lista con números primos resultaría en esto: $[2,\\hspace{6px} 3,\\hspace{6px} 5,\\hspace{6px} 7,\\hspace{6px} 11,\\hspace{6px} 13,\\hspace{6px} ...,\\hspace{6px} P_{n-1},\\hspace{6px} P_n,\\hspace{6px} P_{n+1},\\hspace{6px} ...]$\n",
    "\n",
    "Esta conjetura dice que para todo $n \\geq 2$ existen al menos $4$ números primos entre $(P_n)^2$ y $(P_{n+1})^2$ y en este notebook probaremos, haremos un análisis y observaremos el transfondo de la construcción de un algoritmo diseñado para encontrar los números primos entre $(P_n)^2$ y $(P_{n+1})^2$"
   ]
  },
  {
   "cell_type": "markdown",
   "id": "8acf16a5",
   "metadata": {},
   "source": [
    "## <span style=\"color:#38C520\">2. Razonamientos necesarios para el algoritmo</span>"
   ]
  },
  {
   "cell_type": "markdown",
   "id": "cc9ba643",
   "metadata": {},
   "source": [
    "### 2.1 Teorema fundamental de la aritmética o teorema de factorización única\n",
    "El teorema fundamental de la aritmética o también conocido como teorema de factorización único establece que todo número natural (n) mayor que 1, es primo o se puede expresar como la multiplicación de números primos, y además, la multiplicación de estos primos, es única para cada n.\n",
    "\n",
    "Por ejemplo el número 20, que no es primo, puede escribirse como: $[2 * 2 * 5]$ y esta multiplicación es única para el 20.\n",
    "El número 21, puede escribirse $[3 * 7]$ y esta multiplicación de primos es a su vez exclusiva del 21.\n",
    "\n",
    "Cuando tenemos un número primo (n), este no puede escribirse como una multiplicación de números primos más pequeños que él, sino que su factorización en números primos, resulta en el mismo (n); por ejemplo el número 13 que es primo, solo se tiene así mismo como factor primo, es decir, es resultado de multiplicar los siguientes primos: $[13]$"
   ]
  },
  {
   "cell_type": "markdown",
   "id": "252d5531",
   "metadata": {},
   "source": [
    "### 2.2 Algoritmo $O(\\frac{\\sqrt{n}}{2})$ para comprobar si un número es primo o no\n",
    "\n",
    " >Para este subsección usaremos un concepto conocido como Notación asintótica o complejidad algorítmica (<a href=\"https://medium.com/laboratoria-developers/algoritmos-y-notaci%C3%B3n-asint%C3%B3tica-817a666ca444\">Algoritmos y notación asintótica</a>)\n",
    " \n",
    "> Para cuando queremos saber si un $i$ es divisor de $n$, usamos el resto de la división o <a href=\"https://es.wikipedia.org/wiki/Operaci%C3%B3n_m%C3%B3dulo\">Módulo</a>  \n",
    "ya que $i$ es divisor de $n$ sí y solo sí $n$ $mod$ $i == 0$\n",
    "\n",
    "Sabemos que un número primo $(n)$, es aquel distinto a $1$ que tiene como únicos divisores al $1$ y a sí mismo $(n)$, por lo que en primera instancia, se nos podría ocurrir un enfoque de algoritmo completamente basado en la fuerza bruta que consiste en iterar sobre todos los números enteros desde $2$ hasta $n - 1$ (Se inicia en $2$ y se termina en $n - 1$ para no pasar por $1$ ni por $n$) y por cada número $(i)$ preguntar si la división de $\\frac{n}{i}$ tiene resto igual a $0$, en caso del resto ser 0, significaría que existe un $i$ que divide a $n$ y por tanto, $n$ no sería primo."
   ]
  },
  {
   "cell_type": "markdown",
   "id": "6259ad81",
   "metadata": {},
   "source": [
    "`Primer enfoque` complejidad $O(n - 2)$"
   ]
  },
  {
   "cell_type": "code",
   "execution_count": 3,
   "id": "feed2351",
   "metadata": {},
   "outputs": [
    {
     "name": "stdout",
     "output_type": "stream",
     "text": [
      "El 1 No es primo"
     ]
    }
   ],
   "source": [
    "#include<iostream>\n",
    "bool isPrime(int n) {\n",
    "    if (n == 1) return false;\n",
    "    for (int i = 2; i < n; i++) {\n",
    "        if (n % i == 0) return false;\n",
    "    }\n",
    "    return true;\n",
    "}\n",
    "\n",
    "int npr1 = 1; // Intenta cambiar el número\n",
    "\n",
    "std::cout << \"El \" << npr1 << (isPrime(npr1) ? \" Sí es primo\" : \" No es primo\");"
   ]
  },
  {
   "cell_type": "markdown",
   "id": "fccf99bb",
   "metadata": {},
   "source": [
    "Pero esto no es eficiente, ya que por ejemplo sabemos que si un número natural $a$ es divisor de $n$ quiere decir que debe existir un número natural $b$ cuyo producto con $a$ sea igual a $n$: $(a * b = n)$ Y estos números $a$ y $b$ se relacionan en el modo de que si uno aumenta su valor, el otro disminuye.\n",
    "\n",
    "Como $a$ es un divisor que nos sirve para demostrar que $n$ no es primo, $a$ no puede ser 1, por ende, el menor valor que puede tomar $a$ es 2, y si se debe cumplir que $a * b = n$, el máximo valor que puede tomar b es $\\frac{n}{2}$ y de esta forma $2 * \\frac{n}{2} = n$.\n",
    "\n",
    "Con esto podemos saber que si $b > \\frac{n}{2}$ no existe ningún $a \\in \\mathbb{N}$ que cumpla la expresión $a * b = n$ y por tanto concluimos que $n$ no puede tener ningún divisor mayor a su mitad $(\\frac{n}{2})$, esto se aplica incluso para los $n$ impares, siendo que para estos, su posible más grande divisor es $\\lfloor \\frac{n}{2} \\rfloor$ equivalente a una división entera en C++."
   ]
  },
  {
   "cell_type": "markdown",
   "id": "ca4e4b11",
   "metadata": {},
   "source": [
    "`Segundo enfoque` complejidad $O(\\frac{n}{2})$"
   ]
  },
  {
   "cell_type": "code",
   "execution_count": 1,
   "id": "f2796a31",
   "metadata": {},
   "outputs": [
    {
     "name": "stdout",
     "output_type": "stream",
     "text": [
      "El 12 No es primo"
     ]
    }
   ],
   "source": [
    "#include<iostream>\n",
    "bool isPrime(int n) {\n",
    "    if (n == 1) return false;\n",
    "    for (int i = 2; i < (n/2); i++) {\n",
    "        if (n % i == 0) return false;\n",
    "    }\n",
    "    return true;\n",
    "}\n",
    "\n",
    "int npr2 = 12; // Intenta cambiar el número \n",
    "\n",
    "std::cout << \"El \" << npr2 << (isPrime(npr2) ? \" Sí es primo\" : \" No es primo\");"
   ]
  },
  {
   "cell_type": "markdown",
   "id": "bbb73935",
   "metadata": {},
   "source": [
    "Sí adicional, a partir del 3, empezamos a preguntar de 2 en 2, para no iterar por los pares debido a que estos son productos del 2, podríamos llegar a una complejidad de $O(\\frac{n}{4})$ Pero este no es el algoritmo que usaremos.\n",
    "Recordemos la idea de la que hablamos en la solución anterior, si tenemos un número $a \\in \\mathbb{N}$ divisor de $n$ entonces debe existir un $b \\in \\mathbb{N}$ tal que $a * b = n$. Y estos valores $a$ y $b$ cumplen que si uno disminuye el otro aumenta.\n",
    "\n",
    "Esto puede ser visto de un modo en que los divisores de $n$ van por parejas compuestas por el número menor y el mayor ($a$ y $b$); pero hay un punto en el que esta pareja está compuesta el mismo número, y es la raíz de $n$.\n",
    "\n",
    "si partimos de la raiz de $n$ y busco un divisor menor que $\\sqrt{n}$, obligatoriamente debe haber otro divisor mayor que $\\sqrt{n}$, dicho en palabras simples, sí existe un divisor $a < \\sqrt{n}$, existe un divisor $b > \\sqrt{n}$ tal que $a * b = n$.\n",
    "\n",
    "Quiere decir que para verificar si un número es primo o no, basta con preguntar por los números menores de las parejas de divisores, es decir los $a \\leq \\sqrt{n}$ y de este modo, solo iterar desde $2$ hasta $\\sqrt{n}$ y si ha esto le sumamos que desde $3$, empezamos a iterar de $2$ en $2$, logramos una complejidad de $O(\\frac{\\sqrt{n}}{2})$"
   ]
  },
  {
   "cell_type": "markdown",
   "id": "08e67337",
   "metadata": {},
   "source": [
    "`Tercer enfoque` complejidad $O(\\frac{\\sqrt{n}}{2})$"
   ]
  },
  {
   "cell_type": "code",
   "execution_count": 2,
   "id": "25c9f502",
   "metadata": {},
   "outputs": [
    {
     "name": "stdout",
     "output_type": "stream",
     "text": [
      "El 2 Sí es primo"
     ]
    }
   ],
   "source": [
    "#include<iostream>\n",
    "bool isPrime(int n) {\n",
    "    if (n == 1 || (n % 2 == 0 && n > 2)) return false;\n",
    "    for (int i = 3; i * i <= n; i += 2) {\n",
    "        if (n % i == 0) return false;\n",
    "    }\n",
    "    return true;\n",
    "}\n",
    "\n",
    "int npr3 = 2; // Intenta cambiar el número \n",
    "\n",
    "std::cout << \"El \" << npr3 << (isPrime(npr3) ? \" Sí es primo\" : \" No es primo\");"
   ]
  },
  {
   "cell_type": "markdown",
   "id": "0d715a8c",
   "metadata": {},
   "source": [
    "### 2.3 Combinación de las 2 ideas anteriores\n",
    "Existe una forma aún más eficiente de saber si un número es primo o no si se tienen calculados algunos primos anteriormente.\n",
    "\n",
    "Si tomamos la idea de que cada número puede ser escrito como la multiplicación de primos, bastaría con iterar solamente sobre los primos menores que $n$ para saber si $n$ es primo, además si llega a existir un número primo $c$ que es divisor de $n$ tal que $\\sqrt{n} < c < n$ deberá existir al menos otro primo $d$, $d < \\sqrt{n}$ en la lista de factores primos de $n$ ya que de ser $d \\geq \\sqrt{n}$, la multiplicación de los primos $c * d$ excedería a $n$, por tanto la existencia de un divisor primo $c$, $c > \\sqrt{n}$ implica la existencia de un divisor primo $d$, $d < \\sqrt{n}$, esto hace que no sea necesario iterar por los primos mayores que $\\sqrt{n}$ para preguntar si son divisores, porque la ausencia de un divisor primo menor a $\\sqrt{n}$ implica la ausencia de un divisor primo mayor que $\\sqrt{n}$, es decir, `solo necesitaremos iterar por los primos menores o iguales a` $\\sqrt{n}$.\n",
    "\n",
    "para esta técnica es necesario tener los números primos desde 2 hasta $(\\sqrt{n})$ precalculados."
   ]
  },
  {
   "cell_type": "markdown",
   "id": "f6db5bbe",
   "metadata": {},
   "source": [
    "## <span style=\"color:#38C520\">3. Algoritmo principal</span>\n",
    "\n",
    "> <span style=\"font-size:16px; color:#F84;\">Es importante que vayas ejecutando los bloques de código al ritmo que vas avanzando por el documento para evitar tener errores al correr fragmentos de código</span>"
   ]
  },
  {
   "cell_type": "markdown",
   "id": "2f14ee8c",
   "metadata": {},
   "source": [
    "### 3.1 Inicio del programa"
   ]
  },
  {
   "cell_type": "markdown",
   "id": "71a9589d",
   "metadata": {},
   "source": [
    "Incluimos las librerias necesarias"
   ]
  },
  {
   "cell_type": "code",
   "execution_count": 4,
   "id": "5fa7f7ea",
   "metadata": {},
   "outputs": [],
   "source": [
    "#include<iostream>\n",
    "#include<queue>\n",
    "#include<vector>"
   ]
  },
  {
   "cell_type": "markdown",
   "id": "baa68e71",
   "metadata": {},
   "source": [
    "<hr>\n",
    "\n",
    "Usamos el espacio de nombre std en el ámbito global de nuestro programa para usar directamente sentencias como `cin` o `cout`"
   ]
  },
  {
   "cell_type": "code",
   "execution_count": 5,
   "id": "46802f45",
   "metadata": {},
   "outputs": [],
   "source": [
    "using namespace std;"
   ]
  },
  {
   "cell_type": "markdown",
   "id": "6cda3bf2",
   "metadata": {},
   "source": [
    "<hr>\n",
    "\n",
    "Le asignamos el nombre `ll` al tipo de dato long long para declarar variables de este tipo con facilidad"
   ]
  },
  {
   "cell_type": "code",
   "execution_count": 6,
   "id": "84292b6a",
   "metadata": {},
   "outputs": [],
   "source": [
    "typedef long long ll;"
   ]
  },
  {
   "cell_type": "markdown",
   "id": "f702bfbf",
   "metadata": {},
   "source": [
    "<hr>\n",
    "\n",
    "Declaramos la lista en donde irán guardados los primos hasta el primo $P_{n+1}$ (<a href=\"#1.-¿Qué-dice-la-conjetura-de-Brocard-y-qué-haremos?\">Significado de $P_{n}$</a>)"
   ]
  },
  {
   "cell_type": "code",
   "execution_count": 7,
   "id": "096b3b1e",
   "metadata": {},
   "outputs": [],
   "source": [
    "// Lista donde se guardan los primos en orden ascendente\n",
    "vector<ll> primes = {2, 3, 5, 7, 11, 13, 17, 19};"
   ]
  },
  {
   "cell_type": "markdown",
   "id": "5207e581",
   "metadata": {},
   "source": [
    "<hr>\n",
    "\n",
    "### 3.2 Funciones"
   ]
  },
  {
   "cell_type": "markdown",
   "id": "9a45507d",
   "metadata": {},
   "source": [
    "#### 3.2.1 isNextPrime()"
   ]
  },
  {
   "cell_type": "markdown",
   "id": "69614c68",
   "metadata": {},
   "source": [
    "Esta función recibe un valor $x$, y se encargará de verificar si $x$ es o no el siguiente primo de la lista. Esto es para poder ir llenando la lista con cada vez más primos.\n",
    "\n",
    "Su funcionamiento es simple, la lista de primos está ordenada de manera ascendente, y si queremos comprobar si $x$ es el siguiente primo, tenemos a nuestra disposición todos los primos menores a $x$, por lo que siguiendo el razonamiento visto en el apartado <a href=\"#2.3-Combinación-de-las-2-ideas-anteriores\">2.3</a> iteramos sobre todos los primos limitando el ciclo hasta $\\sqrt{n}$ comparando el cuadrado del primo con x, ya que esto es más eficiente que calcular la condición `primes[i] <= sqrt(x)`.\n",
    "\n",
    "> <b>Nota</b>: En el contexto del algoritmo completo, este hace uso de esta función solo con valores de $x$ mayores que el último primo de la lista, por lo que no está diseñado para devolver falso en caso de ingresar un primo ya calculado."
   ]
  },
  {
   "cell_type": "code",
   "execution_count": 8,
   "id": "b7ecd142",
   "metadata": {},
   "outputs": [],
   "source": [
    "// Función para saber si un x es el siguiente primo de la lista\n",
    "bool isNextPrime (ll x) {\n",
    "    for (int i = 0; i < primes.size() && primes[i]*primes[i] <= x; i++) {\n",
    "        if (x % primes[i] == 0) return false;\n",
    "    }\n",
    "    return true;\n",
    "}"
   ]
  },
  {
   "cell_type": "markdown",
   "id": "38f9ef8f",
   "metadata": {},
   "source": [
    "<hr>\n",
    "\n",
    "#### 3.2.2 fillPrimesUntilN()"
   ]
  },
  {
   "cell_type": "markdown",
   "id": "cfd069ce",
   "metadata": {},
   "source": [
    "Esta función recibe un valor $n$, y se encargará de hacer que la lista de primos tenga por lo menos una longitud de n.\n",
    "\n",
    "La ciencia detrás del funcionamiento de esta función es sencilla, iniciamos obteniendo el valor del último primo contenido en la lista de primos y lo almacenamos en la variable `primeCandidate`, cuyo rol es ser un candidato a ser primo (*Es garantizado que `primeCandidate` iniciará siendo impar mayor a 2*).\n",
    "\n",
    "Luego siempre que la lista tenga menos de n elementos incrementaremos a `primeCandidate` 2 unidades, para evitar tener un par en `primeCandidate` ya que estaremos trabajando con valores mayores a 2, y ningún número par mayor a 2 es primo; después de cambiar el valor de `primeCandidate` usamos la función anterior `isNextPrime()` para saber si `primeCandidate` es el siguiente primo en la lista, y de ser así lo incluímos en la lista.\n",
    "\n",
    "Este ciclo de incrementar a `primeCandidate` y preguntar si este es el siguiente primo en la lista, se repite y se detiene hasta que la lista tenga por lo menos n primos."
   ]
  },
  {
   "cell_type": "code",
   "execution_count": 9,
   "id": "7c98152e",
   "metadata": {},
   "outputs": [],
   "source": [
    "// Función para rellenar la lista hasta que tenga n primos\n",
    "void fillPrimesUntilN (int n) {\n",
    "    ll primeCandidate = primes[primes.size() - 1];\n",
    "\n",
    "    while (primes.size() < n) {\n",
    "        primeCandidate += 2;\n",
    "\n",
    "        if (isNextPrime(primeCandidate)) {\n",
    "            primes.push_back(primeCandidate);\n",
    "        }\n",
    "    }\n",
    "}"
   ]
  },
  {
   "cell_type": "markdown",
   "id": "793d3455",
   "metadata": {},
   "source": [
    "<hr>\n",
    "\n",
    "#### 3.2.3 hasPrimeDivisor()"
   ]
  },
  {
   "cell_type": "markdown",
   "id": "000da7b2",
   "metadata": {},
   "source": [
    "Esta función recibe un valor valor x, y busca en la lista de primos si existe un número primo divisor de x.\n",
    "\n",
    "Este mecanismo nos permite saber cuando un número entre $(P_n)^2$ y $(P_{n+1})^2$ es primo, debido a que cuando estemos recorriendo los valores entre $(P_n)^2$ y $(P_{n+1})^2$ tendremos todos los primos desde 2 hasta el $P_{n+1}$ almacenados en la lista de primos.\n",
    "\n",
    "Y como el elemento más grande del intervalo donde debemos hallar primos es $(P_{n+1})^2$, su raíz cuadrada ($P_{n+1}$) está dentro de la lista de primos, por lo que todos los números del intervalo entre $(P_n)^2$ y $(P_{n+1})^2$ tendrán su raíz cuadrada menor o igual a la del último primo en la lista, es decir para todo número contenido entre $(P_n)^2$ y $(P_{n+1})^2$, podremos aplicar la lógica establecida en el apartado <a href=\"#2.3-Combinación-de-las-2-ideas-anteriores\">2.3</a>\n",
    "\n",
    "El ciclo está limitado para buscar solo primos menores o iguales que la raíz cuadrada."
   ]
  },
  {
   "cell_type": "code",
   "execution_count": 10,
   "id": "92663a4b",
   "metadata": {},
   "outputs": [],
   "source": [
    "// Función para comprobar si x contiene un divisor en la lista de primos\n",
    "bool hasPrimeDivisor (ll x) {\n",
    "    for (int i = 0; i < primes.size() && primes[i]*primes[i] <= x; i++) {\n",
    "        if (x % primes[i] == 0) return true;\n",
    "    }\n",
    "    return false;\n",
    "}"
   ]
  },
  {
   "cell_type": "markdown",
   "id": "931139f2",
   "metadata": {},
   "source": [
    "<hr>\n",
    "\n",
    "### 3.3 Flujo principal"
   ]
  },
  {
   "cell_type": "markdown",
   "id": "e7928820",
   "metadata": {},
   "source": [
    "#### Función con todo el flujo principal del programa\n",
    "\n",
    "<b>Aclaraciones</b>\n",
    "\n",
    "- Los índices para acceder a elementos de la lista primes, son decrementados en 1, debido a que los índices inician desde 0.\n",
    "\n",
    "- La inicialización de `i` en el ciclo for está de esta forma `((leftLimit + 1) | 1)`, primero porque leftlimit al ser un cuadrado, no es primo y por ello comenzamos desde `leftlimit + 1`, segundo, para eficiencia del algoritmo, preguntamos valores de 2 en 2 (impares), y para ello, debemos asegurarnos que `i` inicie en un valor impar, por lo que con un or bit a bit con el 1, nos aseguramos de que el bit de menor peso de `i` inicie en 1, resultando en `i` siendo impar al inicio el 100% de las veces."
   ]
  },
  {
   "cell_type": "code",
   "execution_count": 11,
   "id": "0b0a6103",
   "metadata": {},
   "outputs": [],
   "source": [
    "void run(int n) {\n",
    "    fillPrimesUntilN(n + 1); // Rellena la lista de primos hasta que hallan n + 1 primos\n",
    "\n",
    "    ll leftLimit = primes[n - 1]*primes[n - 1]; // Guarda el valor del cuadrado del primo n\n",
    "    ll rightLimit = primes[n]*primes[n]; // Guarda el valor del cuadrado del primo n + 1\n",
    "\n",
    "    // Declara una cola para almacenar los primos que halla el algoritmo\n",
    "    queue<ll> answer;\n",
    "\n",
    "    // Recorre los números entre los límites izquierda y derecha para encontrar primos\n",
    "    // Adicional, se incrementa de 2 en 2, y el valor inicial se le hace un or bit a bit con el 1\n",
    "    // para asegurarnos que i inicie en un número impar\n",
    "    //\n",
    "    for (ll i = ((leftLimit + 1) | 1); i < rightLimit; i += 2) {\n",
    "        if (!hasPrimeDivisor(i)) answer.push(i);\n",
    "    }\n",
    "\n",
    "    //Imprime información\n",
    "    //\n",
    "    cout << \"El primo numero \" << n << \" es el \" << primes[n - 1] << \"\\n\";\n",
    "    cout << \"El primo numero \" << (n + 1) << \" es el \" << primes[n] << \"\\n\";\n",
    "    cout << \"La cantidad de primos entre \" << leftLimit << \" y \" << rightLimit;\n",
    "    cout << \" es: \" << answer.size() << \"\\n\";\n",
    "    cout << \"Y son:\\n\";\n",
    "\n",
    "    // Imprime los primos encontrados\n",
    "    //\n",
    "    while (!answer.empty()) {\n",
    "        cout << answer.front() << \" \";\n",
    "        answer.pop();\n",
    "    }\n",
    "    cout.flush();\n",
    "}\n",
    "\n"
   ]
  },
  {
   "cell_type": "markdown",
   "id": "acff7f97",
   "metadata": {},
   "source": [
    "<h2 style=\"color:orange;\">¡Prueba el algoritmo!</h2>"
   ]
  },
  {
   "cell_type": "code",
   "execution_count": 12,
   "id": "a53157a8",
   "metadata": {
    "scrolled": false
   },
   "outputs": [
    {
     "name": "stdout",
     "output_type": "stream",
     "text": [
      "El primo numero 5 es el 11\n",
      "El primo numero 6 es el 13\n",
      "La cantidad de primos entre 121 y 169 es: 9\n",
      "Y son:\n",
      "127 131 137 139 149 151 157 163 167 "
     ]
    }
   ],
   "source": [
    "// Ejecuta este bloque de código cada que quieras probar el algoritmo\n",
    "\n",
    "int n = 5; // <- - - - - - -  CAMBIA EL VALOR\n",
    "run(n);"
   ]
  }
 ],
 "metadata": {
  "kernelspec": {
   "display_name": "C++17",
   "language": "C++17",
   "name": "xcpp17"
  },
  "language_info": {
   "codemirror_mode": "text/x-c++src",
   "file_extension": ".cpp",
   "mimetype": "text/x-c++src",
   "name": "c++",
   "version": "17"
  }
 },
 "nbformat": 4,
 "nbformat_minor": 5
}
